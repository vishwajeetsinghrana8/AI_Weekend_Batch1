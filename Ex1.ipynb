{
 "cells": [
  {
   "cell_type": "code",
   "execution_count": 13,
   "metadata": {},
   "outputs": [
    {
     "name": "stdout",
     "output_type": "stream",
     "text": [
      "Welcome to AI Session.\n",
      "Welcome to AI Session.\n",
      "Welcome to AI Session.\n",
      "Welcome to AI Session.\n"
     ]
    }
   ],
   "source": [
    "print(\"Welcome to AI Session.\")\n",
    "print(\"Welcome to AI Session.\")\n",
    "print(\"Welcome to AI Session.\")\n",
    "print(\"Welcome to AI Session.\")"
   ]
  },
  {
   "cell_type": "markdown",
   "metadata": {},
   "source": [
    "# Welcome to AI Session.\n",
    "## Welcome to AI Session.\n",
    "### Welcome to AI Session.\n",
    "#### Welcome to AI Session.\n",
    "\n",
    "**Knowledge Shelf**\n",
    "<br>\n",
    "\n",
    "_Knowledge Shelf_\n",
    "\n",
    "[Knowledge Shelf](https://www.knowledgeshelfit.com/)\n",
    "\n",
    "<img src=\"lena.png\" alt=\"Image not found\" height=\"250\" width=\"255\">\n",
    "\n",
    "- Python\n",
    "- Java\n",
    "- C/C++"
   ]
  },
  {
   "cell_type": "markdown",
   "metadata": {},
   "source": []
  },
  {
   "cell_type": "code",
   "execution_count": null,
   "metadata": {},
   "outputs": [],
   "source": []
  },
  {
   "cell_type": "code",
   "execution_count": null,
   "metadata": {},
   "outputs": [],
   "source": []
  },
  {
   "cell_type": "code",
   "execution_count": null,
   "metadata": {},
   "outputs": [],
   "source": []
  },
  {
   "cell_type": "code",
   "execution_count": null,
   "metadata": {},
   "outputs": [],
   "source": []
  }
 ],
 "metadata": {
  "kernelspec": {
   "display_name": "Python 3",
   "language": "python",
   "name": "python3"
  },
  "language_info": {
   "codemirror_mode": {
    "name": "ipython",
    "version": 3
   },
   "file_extension": ".py",
   "mimetype": "text/x-python",
   "name": "python",
   "nbconvert_exporter": "python",
   "pygments_lexer": "ipython3",
   "version": "3.8.5"
  }
 },
 "nbformat": 4,
 "nbformat_minor": 4
}
